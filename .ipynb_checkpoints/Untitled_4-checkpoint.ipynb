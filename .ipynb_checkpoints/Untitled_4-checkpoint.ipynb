{
 "cells": [
  {
   "cell_type": "code",
   "execution_count": 2,
   "metadata": {
    "collapsed": true
   },
   "outputs": [],
   "source": [
    "import nltk\n",
    "from nltk.tokenize import WhitespaceTokenizer\n",
    "from string import punctuation\n",
    "from pymorphy2 import MorphAnalyzer\n",
    "from nltk.corpus import stopwords"
   ]
  },
  {
   "cell_type": "markdown",
   "metadata": {},
   "source": [
    "1. Составьте самостоятельно как минимум две коллекциитекстов разных стилей (например, коллекция текстов в публицистическомстиле и коллекция текстов в научном стиле). Коллекции текстовдолжны быть достаточно большие (порядка 5000 токенов). Посчитайтеколичество токенов и типов в каждой коллекции."
   ]
  },
  {
   "cell_type": "markdown",
   "metadata": {},
   "source": [
    "Для того, чтобы избежать повторения однотипного кода, было принято решения такой код преобразовтаь в функции."
   ]
  },
  {
   "cell_type": "markdown",
   "metadata": {},
   "source": [
    "С помощью функции read_file происходит считывание файла с текстом."
   ]
  },
  {
   "cell_type": "code",
   "execution_count": 41,
   "metadata": {
    "collapsed": true
   },
   "outputs": [],
   "source": [
    "def read_file(file):\n",
    "    f = open(file)\n",
    "    text = f.read()\n",
    "    f.close()\n",
    "    return text"
   ]
  },
  {
   "cell_type": "markdown",
   "metadata": {},
   "source": [
    "С использованием функции tokenize выделим токены"
   ]
  },
  {
   "cell_type": "code",
   "execution_count": 42,
   "metadata": {
    "collapsed": false
   },
   "outputs": [],
   "source": [
    "def tokenize(text):\n",
    "    exclude = set(punctuation + '0123456789\\n'+u'–—'+u'«»')\n",
    "    merged_text = ''.join(ch for ch in text if ch not in exclude)\n",
    "    tokens = WhitespaceTokenizer().tokenize(merged_text.lower())\n",
    "    print('Начало текстового файла:')\n",
    "    for i in tokens[:10]: \n",
    "        print(i)\n",
    "    return tokens"
   ]
  },
  {
   "cell_type": "markdown",
   "metadata": {},
   "source": [
    "Функция print_numbers высчитывает количество токенов и типов в тексте"
   ]
  },
  {
   "cell_type": "code",
   "execution_count": 43,
   "metadata": {
    "collapsed": false
   },
   "outputs": [],
   "source": [
    "def print_numbers(tokens):\n",
    "    print('Число токенов: ', len(tokens))\n",
    "    types = nltk.FreqDist(tokens)\n",
    "    print('Число типов:', len(types))\n",
    "    print(types)"
   ]
  },
  {
   "cell_type": "markdown",
   "metadata": {},
   "source": [
    "Рассмторим следующие текст: ________________________________"
   ]
  },
  {
   "cell_type": "code",
   "execution_count": 44,
   "metadata": {
    "collapsed": false
   },
   "outputs": [
    {
     "name": "stdout",
     "output_type": "stream",
     "text": [
      "Начало текстового файла:\n",
      "в\n",
      "начале\n",
      "июля\n",
      "в\n",
      "чрезвычайно\n",
      "жаркое\n",
      "время\n",
      "под\n",
      "вечер\n",
      "один\n"
     ]
    }
   ],
   "source": [
    "text_art = read_file('dostoevsky.txt')\n",
    "tokens_art = tokenize(text_art)"
   ]
  },
  {
   "cell_type": "code",
   "execution_count": 45,
   "metadata": {
    "collapsed": false
   },
   "outputs": [
    {
     "name": "stdout",
     "output_type": "stream",
     "text": [
      "Число токенов:  42090\n",
      "Число типов: 10333\n",
      "<FreqDist with 10333 samples and 42090 outcomes>\n"
     ]
    }
   ],
   "source": [
    "print_numbers(tokens_art)"
   ]
  },
  {
   "cell_type": "code",
   "execution_count": 46,
   "metadata": {
    "collapsed": false
   },
   "outputs": [
    {
     "name": "stdout",
     "output_type": "stream",
     "text": [
      "Начало текстового файла:\n",
      "введение\n",
      "актуальность\n",
      "за\n",
      "последние\n",
      "два\n",
      "десятка\n",
      "лет\n",
      "российские\n",
      "домохозяйства\n",
      "испытали\n"
     ]
    }
   ],
   "source": [
    "text_sci = read_file('science.txt')\n",
    "tokens_sci = tokenize(text_sci)"
   ]
  },
  {
   "cell_type": "code",
   "execution_count": 47,
   "metadata": {
    "collapsed": false
   },
   "outputs": [
    {
     "name": "stdout",
     "output_type": "stream",
     "text": [
      "Число токенов:  6070\n",
      "Число типов: 1999\n",
      "<FreqDist with 1999 samples and 6070 outcomes>\n"
     ]
    }
   ],
   "source": [
    "print_numbers(tokens_sci)"
   ]
  },
  {
   "cell_type": "code",
   "execution_count": 48,
   "metadata": {
    "collapsed": false
   },
   "outputs": [
    {
     "name": "stdout",
     "output_type": "stream",
     "text": [
      "Начало текстового файла:\n",
      "актуальную\n",
      "версию\n",
      "смотрите\n",
      "на\n",
      "сайте\n",
      "налоговый\n",
      "кодекс\n",
      "российской\n",
      "федерациипо\n",
      "состоянию\n"
     ]
    }
   ],
   "source": [
    "text_ofi = read_file('taxes_law.txt')\n",
    "tokens_ofi = tokenize(text_ofi)"
   ]
  },
  {
   "cell_type": "code",
   "execution_count": 49,
   "metadata": {
    "collapsed": false
   },
   "outputs": [
    {
     "name": "stdout",
     "output_type": "stream",
     "text": [
      "Число токенов:  28914\n",
      "Число типов: 3938\n",
      "<FreqDist with 3938 samples and 28914 outcomes>\n"
     ]
    }
   ],
   "source": [
    "print_numbers(tokens_ofi)"
   ]
  },
  {
   "cell_type": "markdown",
   "metadata": {},
   "source": [
    "2.Используя любой морфологический процессор, которыйвам нравится (pymorphy2, mystem), определите к какой части речиотносятся слова из каждой коллекции текстов. При помощи nltk.FreqDist()составьте частотные словари: часть речи – количество слов, к нейотносящихся."
   ]
  },
  {
   "cell_type": "markdown",
   "metadata": {},
   "source": [
    "Функция pos_freq производит лемматизацию слов, а также определяет часть речи слов, при этом возвращается FreqDist"
   ]
  },
  {
   "cell_type": "code",
   "execution_count": 50,
   "metadata": {
    "collapsed": false
   },
   "outputs": [],
   "source": [
    "morph = MorphAnalyzer()\n",
    "\n",
    "def pos_freq(tokens):\n",
    "    lemmas = [] # список лемм\n",
    "    pos = [] # список частей речи\n",
    "    for word in tokens:\n",
    "        if not word in stopwords.words('russian'):\n",
    "            lemmas.append(morph.parse(word)[0].normal_form)\n",
    "            pos.append(morph.parse(word)[0].tag.POS)   \n",
    "    for i in range(20):\n",
    "        print(lemmas[i] + ':' + pos[i])    \n",
    "    return nltk.FreqDist(pos)"
   ]
  },
  {
   "cell_type": "code",
   "execution_count": 51,
   "metadata": {
    "collapsed": false
   },
   "outputs": [
    {
     "name": "stdout",
     "output_type": "stream",
     "text": [
      "начало:NOUN\n",
      "июль:NOUN\n",
      "чрезвычайно:ADVB\n",
      "жаркое:NOUN\n",
      "время:NOUN\n",
      "вечер:NOUN\n",
      "молодая:NOUN\n",
      "человек:NOUN\n",
      "выйти:VERB\n",
      "свой:ADJF\n",
      "каморка:NOUN\n",
      "который:ADJF\n",
      "нанимать:VERB\n",
      "жильцов:NOUN\n",
      "метр:NOUN\n",
      "переулок:NOUN\n",
      "улица:NOUN\n",
      "медленно:ADVB\n",
      "нерешимость:NOUN\n",
      "отправиться:VERB\n"
     ]
    }
   ],
   "source": [
    "POS_freq_art = pos_freq(tokens_art)"
   ]
  },
  {
   "cell_type": "code",
   "execution_count": 52,
   "metadata": {
    "collapsed": false
   },
   "outputs": [
    {
     "data": {
      "text/plain": [
       "Counter({'ADJF': 3487,\n",
       "         'ADJS': 519,\n",
       "         'ADVB': 2047,\n",
       "         'COMP': 145,\n",
       "         'CONJ': 401,\n",
       "         'GRND': 467,\n",
       "         'INFN': 1000,\n",
       "         'INTJ': 71,\n",
       "         'NOUN': 8536,\n",
       "         'NPRO': 284,\n",
       "         'NUMR': 259,\n",
       "         'PRCL': 436,\n",
       "         'PRED': 34,\n",
       "         'PREP': 133,\n",
       "         'PRTF': 302,\n",
       "         'PRTS': 254,\n",
       "         'VERB': 5072})"
      ]
     },
     "execution_count": 52,
     "metadata": {},
     "output_type": "execute_result"
    }
   ],
   "source": [
    "POS_freq_art"
   ]
  },
  {
   "cell_type": "code",
   "execution_count": 53,
   "metadata": {
    "collapsed": false
   },
   "outputs": [
    {
     "name": "stdout",
     "output_type": "stream",
     "text": [
      "введение:NOUN\n",
      "актуальность:NOUN\n",
      "последний:ADJF\n",
      "десятка:NOUN\n",
      "год:NOUN\n",
      "российский:ADJF\n",
      "домохозяйство:NOUN\n",
      "испытать:VERB\n",
      "несколько:ADVB\n",
      "экономический:ADJF\n",
      "шоковый:ADJS\n",
      "повлечь:PRTF\n",
      "себя:NPRO\n",
      "часть:NOUN\n",
      "снижение:NOUN\n",
      "благосостояние:NOUN\n",
      "кризис:NOUN\n",
      "год:NOUN\n",
      "привести:VERB\n",
      "обесценивание:NOUN\n"
     ]
    }
   ],
   "source": [
    "POS_freq_sci = pos_freq(tokens_sci)"
   ]
  },
  {
   "cell_type": "code",
   "execution_count": 54,
   "metadata": {
    "collapsed": false
   },
   "outputs": [
    {
     "data": {
      "text/plain": [
       "Counter({'ADJF': 932,\n",
       "         'ADJS': 35,\n",
       "         'ADVB': 71,\n",
       "         'COMP': 2,\n",
       "         'CONJ': 62,\n",
       "         'GRND': 24,\n",
       "         'INFN': 132,\n",
       "         'NOUN': 2759,\n",
       "         'NPRO': 8,\n",
       "         'NUMR': 10,\n",
       "         'PRCL': 10,\n",
       "         'PREP': 35,\n",
       "         'PRTF': 147,\n",
       "         'PRTS': 50,\n",
       "         'VERB': 379})"
      ]
     },
     "execution_count": 54,
     "metadata": {},
     "output_type": "execute_result"
    }
   ],
   "source": [
    "POS_freq_sci"
   ]
  },
  {
   "cell_type": "code",
   "execution_count": 55,
   "metadata": {
    "collapsed": false,
    "scrolled": false
   },
   "outputs": [
    {
     "name": "stdout",
     "output_type": "stream",
     "text": [
      "актуальный:ADJF\n",
      "версия:NOUN\n",
      "смотреть:VERB\n",
      "сайт:NOUN\n",
      "налоговый:ADJF\n",
      "кодекс:NOUN\n",
      "российский:ADJF\n",
      "федерациипо:ADVB\n",
      "состояние:NOUN\n",
      "гчасть:NOUN\n",
      "перваяпринять:PRTS\n",
      "государственный:ADJF\n",
      "дума:NOUN\n",
      "июль:NOUN\n",
      "год:NOUN\n",
      "одобрить:PRTS\n",
      "совет:NOUN\n",
      "федерация:NOUN\n",
      "июль:NOUN\n",
      "годараздел:NOUN\n"
     ]
    }
   ],
   "source": [
    "POS_freq_ofi = pos_freq(tokens_ofi)"
   ]
  },
  {
   "cell_type": "code",
   "execution_count": 56,
   "metadata": {
    "collapsed": false
   },
   "outputs": [
    {
     "data": {
      "text/plain": [
       "Counter({'ADJF': 5723,\n",
       "         'ADJS': 57,\n",
       "         'ADVB': 240,\n",
       "         'CONJ': 164,\n",
       "         'GRND': 22,\n",
       "         'INFN': 271,\n",
       "         'NOUN': 13898,\n",
       "         'NPRO': 30,\n",
       "         'NUMR': 60,\n",
       "         'PRCL': 17,\n",
       "         'PRED': 32,\n",
       "         'PREP': 38,\n",
       "         'PRTF': 835,\n",
       "         'PRTS': 237,\n",
       "         'VERB': 1042})"
      ]
     },
     "execution_count": 56,
     "metadata": {},
     "output_type": "execute_result"
    }
   ],
   "source": [
    "POS_freq_ofi"
   ]
  },
  {
   "cell_type": "code",
   "execution_count": 57,
   "metadata": {
    "collapsed": false
   },
   "outputs": [],
   "source": [
    "import pandas as pd\n"
   ]
  },
  {
   "cell_type": "code",
   "execution_count": 58,
   "metadata": {
    "collapsed": false
   },
   "outputs": [],
   "source": [
    "a=pd.DataFrame.from_dict(POS_freq_art, orient='index')"
   ]
  },
  {
   "cell_type": "code",
   "execution_count": 59,
   "metadata": {
    "collapsed": false
   },
   "outputs": [],
   "source": [
    "b=pd.DataFrame.from_dict(POS_freq_sci, orient='index')"
   ]
  },
  {
   "cell_type": "code",
   "execution_count": 60,
   "metadata": {
    "collapsed": true
   },
   "outputs": [],
   "source": [
    "c=pd.DataFrame.from_dict(POS_freq_ofi, orient='index')"
   ]
  },
  {
   "cell_type": "code",
   "execution_count": 61,
   "metadata": {
    "collapsed": false
   },
   "outputs": [],
   "source": [
    "d=pd.concat([a,b,c], axis=1)"
   ]
  },
  {
   "cell_type": "code",
   "execution_count": 62,
   "metadata": {
    "collapsed": true
   },
   "outputs": [],
   "source": [
    "d.columns = ['art', 'sci', 'ofi']"
   ]
  },
  {
   "cell_type": "code",
   "execution_count": 63,
   "metadata": {
    "collapsed": false
   },
   "outputs": [
    {
     "data": {
      "text/html": [
       "<div>\n",
       "<table border=\"1\" class=\"dataframe\">\n",
       "  <thead>\n",
       "    <tr style=\"text-align: right;\">\n",
       "      <th></th>\n",
       "      <th>art</th>\n",
       "      <th>sci</th>\n",
       "      <th>ofi</th>\n",
       "    </tr>\n",
       "  </thead>\n",
       "  <tbody>\n",
       "    <tr>\n",
       "      <th>ADJF</th>\n",
       "      <td>3487</td>\n",
       "      <td>932.0</td>\n",
       "      <td>5723.0</td>\n",
       "    </tr>\n",
       "    <tr>\n",
       "      <th>ADJS</th>\n",
       "      <td>519</td>\n",
       "      <td>35.0</td>\n",
       "      <td>57.0</td>\n",
       "    </tr>\n",
       "    <tr>\n",
       "      <th>ADVB</th>\n",
       "      <td>2047</td>\n",
       "      <td>71.0</td>\n",
       "      <td>240.0</td>\n",
       "    </tr>\n",
       "    <tr>\n",
       "      <th>COMP</th>\n",
       "      <td>145</td>\n",
       "      <td>2.0</td>\n",
       "      <td>0.0</td>\n",
       "    </tr>\n",
       "    <tr>\n",
       "      <th>CONJ</th>\n",
       "      <td>401</td>\n",
       "      <td>62.0</td>\n",
       "      <td>164.0</td>\n",
       "    </tr>\n",
       "    <tr>\n",
       "      <th>GRND</th>\n",
       "      <td>467</td>\n",
       "      <td>24.0</td>\n",
       "      <td>22.0</td>\n",
       "    </tr>\n",
       "    <tr>\n",
       "      <th>INFN</th>\n",
       "      <td>1000</td>\n",
       "      <td>132.0</td>\n",
       "      <td>271.0</td>\n",
       "    </tr>\n",
       "    <tr>\n",
       "      <th>INTJ</th>\n",
       "      <td>71</td>\n",
       "      <td>0.0</td>\n",
       "      <td>0.0</td>\n",
       "    </tr>\n",
       "    <tr>\n",
       "      <th>NOUN</th>\n",
       "      <td>8536</td>\n",
       "      <td>2759.0</td>\n",
       "      <td>13898.0</td>\n",
       "    </tr>\n",
       "    <tr>\n",
       "      <th>NPRO</th>\n",
       "      <td>284</td>\n",
       "      <td>8.0</td>\n",
       "      <td>30.0</td>\n",
       "    </tr>\n",
       "    <tr>\n",
       "      <th>NUMR</th>\n",
       "      <td>259</td>\n",
       "      <td>10.0</td>\n",
       "      <td>60.0</td>\n",
       "    </tr>\n",
       "    <tr>\n",
       "      <th>PRCL</th>\n",
       "      <td>436</td>\n",
       "      <td>10.0</td>\n",
       "      <td>17.0</td>\n",
       "    </tr>\n",
       "    <tr>\n",
       "      <th>PRED</th>\n",
       "      <td>34</td>\n",
       "      <td>0.0</td>\n",
       "      <td>32.0</td>\n",
       "    </tr>\n",
       "    <tr>\n",
       "      <th>PREP</th>\n",
       "      <td>133</td>\n",
       "      <td>35.0</td>\n",
       "      <td>38.0</td>\n",
       "    </tr>\n",
       "    <tr>\n",
       "      <th>PRTF</th>\n",
       "      <td>302</td>\n",
       "      <td>147.0</td>\n",
       "      <td>835.0</td>\n",
       "    </tr>\n",
       "    <tr>\n",
       "      <th>PRTS</th>\n",
       "      <td>254</td>\n",
       "      <td>50.0</td>\n",
       "      <td>237.0</td>\n",
       "    </tr>\n",
       "    <tr>\n",
       "      <th>VERB</th>\n",
       "      <td>5072</td>\n",
       "      <td>379.0</td>\n",
       "      <td>1042.0</td>\n",
       "    </tr>\n",
       "  </tbody>\n",
       "</table>\n",
       "</div>"
      ],
      "text/plain": [
       "       art     sci      ofi\n",
       "ADJF  3487   932.0   5723.0\n",
       "ADJS   519    35.0     57.0\n",
       "ADVB  2047    71.0    240.0\n",
       "COMP   145     2.0      0.0\n",
       "CONJ   401    62.0    164.0\n",
       "GRND   467    24.0     22.0\n",
       "INFN  1000   132.0    271.0\n",
       "INTJ    71     0.0      0.0\n",
       "NOUN  8536  2759.0  13898.0\n",
       "NPRO   284     8.0     30.0\n",
       "NUMR   259    10.0     60.0\n",
       "PRCL   436    10.0     17.0\n",
       "PRED    34     0.0     32.0\n",
       "PREP   133    35.0     38.0\n",
       "PRTF   302   147.0    835.0\n",
       "PRTS   254    50.0    237.0\n",
       "VERB  5072   379.0   1042.0"
      ]
     },
     "execution_count": 63,
     "metadata": {},
     "output_type": "execute_result"
    }
   ],
   "source": [
    "d.fillna(0)"
   ]
  },
  {
   "cell_type": "code",
   "execution_count": 64,
   "metadata": {
    "collapsed": false
   },
   "outputs": [
    {
     "data": {
      "text/html": [
       "<div>\n",
       "<table border=\"1\" class=\"dataframe\">\n",
       "  <thead>\n",
       "    <tr style=\"text-align: right;\">\n",
       "      <th></th>\n",
       "      <th>art</th>\n",
       "      <th>sci</th>\n",
       "      <th>ofi</th>\n",
       "    </tr>\n",
       "  </thead>\n",
       "  <tbody>\n",
       "    <tr>\n",
       "      <th>art</th>\n",
       "      <td>1.000000</td>\n",
       "      <td>0.713776</td>\n",
       "      <td>0.600000</td>\n",
       "    </tr>\n",
       "    <tr>\n",
       "      <th>sci</th>\n",
       "      <td>0.713776</td>\n",
       "      <td>1.000000</td>\n",
       "      <td>0.940531</td>\n",
       "    </tr>\n",
       "    <tr>\n",
       "      <th>ofi</th>\n",
       "      <td>0.600000</td>\n",
       "      <td>0.940531</td>\n",
       "      <td>1.000000</td>\n",
       "    </tr>\n",
       "  </tbody>\n",
       "</table>\n",
       "</div>"
      ],
      "text/plain": [
       "          art       sci       ofi\n",
       "art  1.000000  0.713776  0.600000\n",
       "sci  0.713776  1.000000  0.940531\n",
       "ofi  0.600000  0.940531  1.000000"
      ]
     },
     "execution_count": 64,
     "metadata": {},
     "output_type": "execute_result"
    }
   ],
   "source": [
    "d.corr(method='spearman')"
   ]
  },
  {
   "cell_type": "code",
   "execution_count": 19,
   "metadata": {
    "collapsed": true
   },
   "outputs": [],
   "source": [
    "# это на будущее\n",
    "\n",
    "mystopwords = stopwords.words('russian')+[u'это', u'иза', u'свой',u'млрд', u'млн',u'млна',u'тыс',u'трлн']"
   ]
  },
  {
   "cell_type": "code",
   "execution_count": 65,
   "metadata": {
    "collapsed": false
   },
   "outputs": [],
   "source": [
    "# пихаем все возможные части речи в один сет\n",
    "a = list(POS_freq_sci.keys())\n",
    "a.extend(list(POS_freq_ofi.keys()))\n",
    "a.extend(list(POS_freq_art.keys()))\n",
    "a = list(set(a))"
   ]
  },
  {
   "cell_type": "code",
   "execution_count": 66,
   "metadata": {
    "collapsed": false
   },
   "outputs": [
    {
     "data": {
      "text/plain": [
       "['ADJF',\n",
       " 'GRND',\n",
       " 'PRCL',\n",
       " 'NUMR',\n",
       " 'ADJS',\n",
       " 'PRTS',\n",
       " 'PRED',\n",
       " 'INTJ',\n",
       " 'COMP',\n",
       " 'PRTF',\n",
       " 'CONJ',\n",
       " 'INFN',\n",
       " 'ADVB',\n",
       " 'PREP',\n",
       " 'VERB',\n",
       " 'NOUN',\n",
       " 'NPRO']"
      ]
     },
     "execution_count": 66,
     "metadata": {},
     "output_type": "execute_result"
    }
   ],
   "source": [
    "a"
   ]
  },
  {
   "cell_type": "code",
   "execution_count": 67,
   "metadata": {
    "collapsed": true
   },
   "outputs": [],
   "source": [
    "art = []\n",
    "sci = []\n",
    "ofi = []"
   ]
  },
  {
   "cell_type": "code",
   "execution_count": 68,
   "metadata": {
    "collapsed": false
   },
   "outputs": [],
   "source": [
    "for k in a:\n",
    "    art.append(POS_freq_art[k])\n",
    "    sci.append(POS_freq_sci[k])\n",
    "    ofi.append(POS_freq_ofi[k])\n",
    "\n",
    "# теперь в списках art, sci, ofi лежат упорядоченные значения"
   ]
  },
  {
   "cell_type": "code",
   "execution_count": 69,
   "metadata": {
    "collapsed": true
   },
   "outputs": [],
   "source": [
    "import scipy.stats as sts"
   ]
  },
  {
   "cell_type": "code",
   "execution_count": 70,
   "metadata": {
    "collapsed": false
   },
   "outputs": [
    {
     "data": {
      "text/plain": [
       "[3487,\n",
       " 467,\n",
       " 436,\n",
       " 259,\n",
       " 519,\n",
       " 254,\n",
       " 34,\n",
       " 71,\n",
       " 145,\n",
       " 302,\n",
       " 401,\n",
       " 1000,\n",
       " 2047,\n",
       " 133,\n",
       " 5072,\n",
       " 8536,\n",
       " 284]"
      ]
     },
     "execution_count": 70,
     "metadata": {},
     "output_type": "execute_result"
    }
   ],
   "source": [
    "art"
   ]
  },
  {
   "cell_type": "code",
   "execution_count": 71,
   "metadata": {
    "collapsed": false
   },
   "outputs": [
    {
     "data": {
      "text/plain": [
       "[5723, 22, 17, 60, 57, 237, 32, 0, 0, 835, 164, 271, 240, 38, 1042, 13898, 30]"
      ]
     },
     "execution_count": 71,
     "metadata": {},
     "output_type": "execute_result"
    }
   ],
   "source": [
    "ofi"
   ]
  },
  {
   "cell_type": "code",
   "execution_count": 75,
   "metadata": {
    "collapsed": false
   },
   "outputs": [
    {
     "data": {
      "text/plain": [
       "SpearmanrResult(correlation=0.68914789164038515, pvalue=0.0022131365794664589)"
      ]
     },
     "execution_count": 75,
     "metadata": {},
     "output_type": "execute_result"
    }
   ],
   "source": [
    "sts.spearmanr(art, ofi)"
   ]
  },
  {
   "cell_type": "code",
   "execution_count": 76,
   "metadata": {
    "collapsed": false
   },
   "outputs": [
    {
     "data": {
      "text/plain": [
       "SpearmanrResult(correlation=0.8029479546287005, pvalue=0.00010423561745532498)"
      ]
     },
     "execution_count": 76,
     "metadata": {},
     "output_type": "execute_result"
    }
   ],
   "source": [
    "sts.spearmanr(art, sci)"
   ]
  },
  {
   "cell_type": "code",
   "execution_count": 77,
   "metadata": {
    "collapsed": false
   },
   "outputs": [
    {
     "data": {
      "text/plain": [
       "SpearmanrResult(correlation=0.93181888497609144, pvalue=5.3796813894423857e-08)"
      ]
     },
     "execution_count": 77,
     "metadata": {},
     "output_type": "execute_result"
    }
   ],
   "source": [
    "sts.spearmanr(sci, ofi)"
   ]
  },
  {
   "cell_type": "code",
   "execution_count": null,
   "metadata": {
    "collapsed": true
   },
   "outputs": [],
   "source": []
  }
 ],
 "metadata": {
  "kernelspec": {
   "display_name": "Python 3",
   "language": "python",
   "name": "python3"
  },
  "language_info": {
   "codemirror_mode": {
    "name": "ipython",
    "version": 3
   },
   "file_extension": ".py",
   "mimetype": "text/x-python",
   "name": "python",
   "nbconvert_exporter": "python",
   "pygments_lexer": "ipython3",
   "version": "3.5.1"
  }
 },
 "nbformat": 4,
 "nbformat_minor": 2
}
