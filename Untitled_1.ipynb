{
 "cells": [
  {
   "cell_type": "code",
   "execution_count": 3,
   "metadata": {
    "collapsed": false
   },
   "outputs": [],
   "source": [
    "# читаем файлик\n",
    "f = open('хреноoevsky.txt')\n",
    "text = f.read()\n",
    "f.close()"
   ]
  },
  {
   "cell_type": "code",
   "execution_count": 4,
   "metadata": {
    "collapsed": false
   },
   "outputs": [
    {
     "name": "stdout",
     "output_type": "stream",
     "text": [
      "в\n",
      "начале\n",
      "июля\n",
      "в\n",
      "чрезвычайно\n",
      "жаркое\n",
      "время\n",
      "под\n",
      "вечер\n",
      "один\n"
     ]
    }
   ],
   "source": [
    "# выделяем токены\n",
    "import nltk\n",
    "from nltk.tokenize import WhitespaceTokenizer\n",
    "from string import punctuation\n",
    "exclude = set(punctuation + '0123456789\\n'+u'–—'+u'«»')\n",
    "merged_text = ''.join(ch for ch in text if ch not in exclude)\n",
    "tokens = WhitespaceTokenizer().tokenize(merged_text.lower())\n",
    "for i in tokens[:10]: print(i) "
   ]
  },
  {
   "cell_type": "code",
   "execution_count": 5,
   "metadata": {
    "collapsed": false
   },
   "outputs": [
    {
     "name": "stdout",
     "output_type": "stream",
     "text": [
      "N of tokens:  42126\n",
      "N of types: 10359\n",
      "<FreqDist with 10359 samples and 42126 outcomes>\n"
     ]
    }
   ],
   "source": [
    "# считаем длину\n",
    "print('N of tokens: ', len(tokens))\n",
    "types = nltk.FreqDist(tokens)\n",
    "print('N of types:', len(types))\n",
    "print(types)"
   ]
  },
  {
   "cell_type": "markdown",
   "metadata": {},
   "source": [
    "Пункт 1 done"
   ]
  },
  {
   "cell_type": "code",
   "execution_count": 45,
   "metadata": {
    "collapsed": false
   },
   "outputs": [],
   "source": [
    "lemmas = [] # список лемм\n",
    "pos = [] # список частей речи\n",
    "for word in tokens:\n",
    "    lemmas.append(morph.parse(word)[0].normal_form)\n",
    "    pos.append(morph.parse(word)[0].tag.POS)"
   ]
  },
  {
   "cell_type": "code",
   "execution_count": 48,
   "metadata": {
    "collapsed": false
   },
   "outputs": [],
   "source": [
    "# распределение (стоп-слова не выкинуты)\n",
    "POS_freq = nltk.FreqDist(pos)"
   ]
  },
  {
   "cell_type": "code",
   "execution_count": 47,
   "metadata": {
    "collapsed": false
   },
   "outputs": [
    {
     "data": {
      "text/plain": [
       "FreqDist({'PREP': 4120,\n",
       "          'NOUN': 8725,\n",
       "          'ADVB': 3619,\n",
       "          'ADJF': 4198,\n",
       "          'VERB': 5663,\n",
       "          'CONJ': 5797,\n",
       "          'PRCL': 2860,\n",
       "          'NPRO': 3580,\n",
       "          'PRED': 226,\n",
       "          'INFN': 1101,\n",
       "          'PRTF': 302,\n",
       "          'GRND': 467,\n",
       "          'PRTS': 254,\n",
       "          'ADJS': 519,\n",
       "          'COMP': 203,\n",
       "          'INTJ': 130,\n",
       "          'NUMR': 323,\n",
       "          None: 39})"
      ]
     },
     "execution_count": 47,
     "metadata": {},
     "output_type": "execute_result"
    }
   ],
   "source": [
    "POS_freq"
   ]
  },
  {
   "cell_type": "code",
   "execution_count": 27,
   "metadata": {
    "collapsed": true
   },
   "outputs": [],
   "source": [
    "# обозначаем стоп-слова\n",
    "from nltk.corpus import stopwords\n",
    "mystopwords = stopwords.words('russian')+[u'это', u'иза', u'свой',u'млрд', u'млн',u'млна',u'тыс',u'трлн']"
   ]
  },
  {
   "cell_type": "code",
   "execution_count": 9,
   "metadata": {
    "collapsed": false
   },
   "outputs": [
    {
     "name": "stdout",
     "output_type": "stream",
     "text": [
      "весь 551\n",
      "ещё 176\n",
      "мочь 163\n",
      "стать 126\n",
      "человек 123\n",
      "который 116\n",
      "рука 111\n",
      "самый 105\n",
      "очень 103\n",
      "дело 98\n",
      "раскольник 97\n",
      "знать 83\n",
      "сказать 79\n",
      "говорить 79\n",
      "хотеть 77\n",
      "минута 76\n",
      "пойти 73\n",
      "дверь 73\n",
      "время 67\n",
      "дом 65\n"
     ]
    }
   ],
   "source": [
    "lemmas_no_sw = [] # список лемм без стоп-слов\n",
    "for l in lemmata:\n",
    "    if not l in mystopwords:\n",
    "        lemmata_no_sw[l] = lemmata[l]\n",
    "for i in lemmata_no_sw.most_common(20):\n",
    "    print(i[0], i[1])"
   ]
  },
  {
   "cell_type": "code",
   "execution_count": null,
   "metadata": {
    "collapsed": true
   },
   "outputs": [],
   "source": []
  },
  {
   "cell_type": "code",
   "execution_count": null,
   "metadata": {
    "collapsed": true
   },
   "outputs": [],
   "source": []
  },
  {
   "cell_type": "code",
   "execution_count": null,
   "metadata": {
    "collapsed": true
   },
   "outputs": [],
   "source": []
  }
 ],
 "metadata": {
  "kernelspec": {
   "display_name": "Python 3",
   "language": "python",
   "name": "python3"
  },
  "language_info": {
   "codemirror_mode": {
    "name": "ipython",
    "version": 3
   },
   "file_extension": ".py",
   "mimetype": "text/x-python",
   "name": "python",
   "nbconvert_exporter": "python",
   "pygments_lexer": "ipython3",
   "version": "3.6.0"
  }
 },
 "nbformat": 4,
 "nbformat_minor": 2
}
