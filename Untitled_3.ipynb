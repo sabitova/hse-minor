{
 "cells": [
  {
   "cell_type": "code",
   "execution_count": 1,
   "metadata": {
    "collapsed": true
   },
   "outputs": [],
   "source": [
    "import nltk\n",
    "from nltk.tokenize import WhitespaceTokenizer\n",
    "from string import punctuation\n",
    "from pymorphy2 import MorphAnalyzer\n",
    "from nltk.corpus import stopwords\n",
    "morph = MorphAnalyzer()"
   ]
  },
  {
   "cell_type": "markdown",
   "metadata": {},
   "source": [
    "1. Составьте самостоятельно как минимум две коллекциитекстов разных стилей (например, коллекция текстов в публицистическомстиле и коллекция текстов в научном стиле). Коллекции текстовдолжны быть достаточно большие (порядка 5000 токенов). Посчитайтеколичество токенов и типов в каждой коллекции."
   ]
  },
  {
   "cell_type": "markdown",
   "metadata": {},
   "source": [
    "Для того, чтобы избежать повторения однотипного кода, было принято решения такой код преобразовтаь в функции."
   ]
  },
  {
   "cell_type": "markdown",
   "metadata": {},
   "source": [
    "С помощью функции read_file происходит считывание файла с текстом."
   ]
  },
  {
   "cell_type": "code",
   "execution_count": 2,
   "metadata": {
    "collapsed": true
   },
   "outputs": [],
   "source": [
    "def read_file(file):\n",
    "    f = open(file)\n",
    "    text = f.read()\n",
    "    f.close()\n",
    "    return text"
   ]
  },
  {
   "cell_type": "markdown",
   "metadata": {},
   "source": [
    "С использованием функции tokenize выделим токены"
   ]
  },
  {
   "cell_type": "code",
   "execution_count": 3,
   "metadata": {
    "collapsed": false
   },
   "outputs": [],
   "source": [
    "def tokenize(text):\n",
    "    exclude = set(punctuation + '0123456789\\n'+u'–—'+u'«»')\n",
    "    merged_text = ''.join(ch for ch in text if ch not in exclude)\n",
    "    tokens = WhitespaceTokenizer().tokenize(merged_text.lower())\n",
    "    print('Начало текстового файла:')\n",
    "    for i in tokens[:10]: \n",
    "        print(i)\n",
    "    return tokens"
   ]
  },
  {
   "cell_type": "markdown",
   "metadata": {},
   "source": [
    "Функция print_numbers высчитывает количество токенов и типов в тексте"
   ]
  },
  {
   "cell_type": "code",
   "execution_count": 4,
   "metadata": {
    "collapsed": false
   },
   "outputs": [],
   "source": [
    "def print_numbers(tokens):\n",
    "    print('Число токенов: ', len(tokens))\n",
    "    types = nltk.FreqDist(tokens)\n",
    "    print('Число типов:', len(types))\n",
    "    print(types)"
   ]
  },
  {
   "cell_type": "markdown",
   "metadata": {},
   "source": [
    "Рассмторим следующие текст: ________________________________"
   ]
  },
  {
   "cell_type": "code",
   "execution_count": 5,
   "metadata": {
    "collapsed": false
   },
   "outputs": [
    {
     "name": "stdout",
     "output_type": "stream",
     "text": [
      "Начало текстового файла:\n",
      "в\n",
      "начале\n",
      "июля\n",
      "в\n",
      "чрезвычайно\n",
      "жаркое\n",
      "время\n",
      "под\n",
      "вечер\n",
      "один\n"
     ]
    }
   ],
   "source": [
    "text_art = read_file('dostoevsky.txt')\n",
    "tokens_art = tokenize(text_art)"
   ]
  },
  {
   "cell_type": "code",
   "execution_count": 6,
   "metadata": {
    "collapsed": false
   },
   "outputs": [
    {
     "name": "stdout",
     "output_type": "stream",
     "text": [
      "Число токенов:  42126\n",
      "Число типов: 10359\n",
      "<FreqDist with 10359 samples and 42126 outcomes>\n"
     ]
    }
   ],
   "source": [
    "print_numbers(tokens_art)"
   ]
  },
  {
   "cell_type": "code",
   "execution_count": 7,
   "metadata": {
    "collapsed": false
   },
   "outputs": [
    {
     "name": "stdout",
     "output_type": "stream",
     "text": [
      "Начало текстового файла:\n",
      "введение\n",
      "актуальность\n",
      "за\n",
      "последние\n",
      "два\n",
      "десятка\n",
      "лет\n",
      "российские\n",
      "домохозяйства\n",
      "испытали\n"
     ]
    }
   ],
   "source": [
    "text_sci = read_file('science.txt')\n",
    "tokens_sci = tokenize(text_sci)"
   ]
  },
  {
   "cell_type": "code",
   "execution_count": 8,
   "metadata": {
    "collapsed": false
   },
   "outputs": [
    {
     "name": "stdout",
     "output_type": "stream",
     "text": [
      "Число токенов:  6070\n",
      "Число типов: 1999\n",
      "<FreqDist with 1999 samples and 6070 outcomes>\n"
     ]
    }
   ],
   "source": [
    "print_numbers(tokens_sci)"
   ]
  },
  {
   "cell_type": "code",
   "execution_count": 9,
   "metadata": {
    "collapsed": false
   },
   "outputs": [
    {
     "name": "stdout",
     "output_type": "stream",
     "text": [
      "Начало текстового файла:\n",
      "актуальную\n",
      "версию\n",
      "смотрите\n",
      "на\n",
      "сайте\n",
      "налоговый\n",
      "кодекс\n",
      "российской\n",
      "федерациипо\n",
      "состоянию\n"
     ]
    }
   ],
   "source": [
    "text_ofi = read_file('taxes_law.txt')\n",
    "tokens_ofi = tokenize(text_ofi)"
   ]
  },
  {
   "cell_type": "code",
   "execution_count": 10,
   "metadata": {
    "collapsed": false
   },
   "outputs": [
    {
     "name": "stdout",
     "output_type": "stream",
     "text": [
      "Число токенов:  29250\n",
      "Число типов: 4003\n",
      "<FreqDist with 4003 samples and 29250 outcomes>\n"
     ]
    }
   ],
   "source": [
    "print_numbers(tokens_ofi)"
   ]
  },
  {
   "cell_type": "markdown",
   "metadata": {},
   "source": [
    "2.Используя любой морфологический процессор, которыйвам нравится (pymorphy2, mystem), определите к какой части речиотносятся слова из каждой коллекции текстов. При помощи nltk.FreqDist()составьте частотные словари: часть речи – количество слов, к нейотносящихся."
   ]
  },
  {
   "cell_type": "markdown",
   "metadata": {},
   "source": [
    "Функция pos_freq производит лемматизацию слов, а также определяет часть речи слов, при этом возвращается FreqDist"
   ]
  },
  {
   "cell_type": "code",
   "execution_count": 11,
   "metadata": {
    "collapsed": false
   },
   "outputs": [],
   "source": [
    "def pos_freq(tokens):\n",
    "    lemmas = [] # список лемм\n",
    "    pos = [] # список частей речи\n",
    "    for word in tokens:\n",
    "        if not word in stopwords.words('russian'):\n",
    "            lemmas.append(morph.parse(word)[0].normal_form)\n",
    "            pos.append(morph.parse(word)[0].tag.POS)   \n",
    "    for i in range(20):\n",
    "        print(lemmas[i] + ':' + pos[i])\n",
    "    return nltk.FreqDist(pos)"
   ]
  },
  {
   "cell_type": "code",
   "execution_count": 12,
   "metadata": {
    "collapsed": false
   },
   "outputs": [
    {
     "name": "stdout",
     "output_type": "stream",
     "text": [
      "начало:NOUN\n",
      "июль:NOUN\n",
      "чрезвычайно:ADVB\n",
      "жаркое:NOUN\n",
      "время:NOUN\n",
      "вечер:NOUN\n",
      "молодая:NOUN\n",
      "человек:NOUN\n",
      "выйти:VERB\n",
      "свой:ADJF\n",
      "каморка:NOUN\n",
      "который:ADJF\n",
      "нанимать:VERB\n",
      "жильцов:NOUN\n",
      "метр:NOUN\n",
      "переулок:NOUN\n",
      "улица:NOUN\n",
      "медленно:ADVB\n",
      "нерешимость:NOUN\n",
      "отправиться:VERB\n"
     ]
    }
   ],
   "source": [
    "POS_freq_art = pos_freq(tokens_art)"
   ]
  },
  {
   "cell_type": "code",
   "execution_count": 13,
   "metadata": {
    "collapsed": false
   },
   "outputs": [
    {
     "data": {
      "text/plain": [
       "Counter({'INTJ': 70,\n",
       "         'ADJF': 3487,\n",
       "         'NUMR': 259,\n",
       "         'PREP': 133,\n",
       "         'PRTS': 254,\n",
       "         'CONJ': 401,\n",
       "         None: 39,\n",
       "         'NPRO': 284,\n",
       "         'VERB': 5072,\n",
       "         'NOUN': 8537,\n",
       "         'COMP': 145,\n",
       "         'INFN': 1000,\n",
       "         'ADJS': 519,\n",
       "         'ADVB': 2047,\n",
       "         'GRND': 467,\n",
       "         'PRTF': 302,\n",
       "         'PRCL': 436,\n",
       "         'PRED': 34})"
      ]
     },
     "execution_count": 13,
     "metadata": {},
     "output_type": "execute_result"
    }
   ],
   "source": [
    "POS_freq_art"
   ]
  },
  {
   "cell_type": "code",
   "execution_count": 14,
   "metadata": {
    "collapsed": false
   },
   "outputs": [
    {
     "name": "stdout",
     "output_type": "stream",
     "text": [
      "введение:NOUN\n",
      "актуальность:NOUN\n",
      "последний:ADJF\n",
      "десятка:NOUN\n",
      "год:NOUN\n",
      "российский:ADJF\n",
      "домохозяйство:NOUN\n",
      "испытать:VERB\n",
      "несколько:ADVB\n",
      "экономический:ADJF\n",
      "шоковый:ADJS\n",
      "повлечь:PRTF\n",
      "себя:NPRO\n",
      "часть:NOUN\n",
      "снижение:NOUN\n",
      "благосостояние:NOUN\n",
      "кризис:NOUN\n",
      "год:NOUN\n",
      "привести:VERB\n",
      "обесценивание:NOUN\n"
     ]
    }
   ],
   "source": [
    "POS_freq_sci = pos_freq(tokens_sci)"
   ]
  },
  {
   "cell_type": "code",
   "execution_count": 15,
   "metadata": {
    "collapsed": false
   },
   "outputs": [
    {
     "data": {
      "text/plain": [
       "Counter({'ADJF': 932,\n",
       "         'ADJS': 35,\n",
       "         'ADVB': 71,\n",
       "         'COMP': 2,\n",
       "         'CONJ': 62,\n",
       "         'GRND': 24,\n",
       "         'INFN': 132,\n",
       "         'NOUN': 2759,\n",
       "         'NPRO': 8,\n",
       "         'NUMR': 10,\n",
       "         'PRCL': 10,\n",
       "         'PREP': 35,\n",
       "         'PRTF': 147,\n",
       "         'PRTS': 50,\n",
       "         'VERB': 379})"
      ]
     },
     "execution_count": 15,
     "metadata": {},
     "output_type": "execute_result"
    }
   ],
   "source": [
    "POS_freq_sci"
   ]
  },
  {
   "cell_type": "code",
   "execution_count": 16,
   "metadata": {
    "collapsed": false
   },
   "outputs": [
    {
     "name": "stdout",
     "output_type": "stream",
     "text": [
      "актуальный:ADJF\n",
      "версия:NOUN\n",
      "смотреть:VERB\n",
      "сайт:NOUN\n",
      "налоговый:ADJF\n",
      "кодекс:NOUN\n",
      "российский:ADJF\n",
      "федерациипо:ADVB\n",
      "состояние:NOUN\n",
      "гчасть:NOUN\n",
      "перваяпринять:PRTS\n",
      "государственный:ADJF\n",
      "дума:NOUN\n",
      "июль:NOUN\n",
      "год:NOUN\n",
      "одобрить:PRTS\n",
      "совет:NOUN\n",
      "федерация:NOUN\n",
      "июль:NOUN\n",
      "годараздел:NOUN\n"
     ]
    }
   ],
   "source": [
    "POS_freq_ofi = pos_freq(tokens_ofi)"
   ]
  },
  {
   "cell_type": "code",
   "execution_count": 17,
   "metadata": {
    "collapsed": false
   },
   "outputs": [
    {
     "data": {
      "text/plain": [
       "Counter({'ADJF': 5729,\n",
       "         'NUMR': 60,\n",
       "         'PREP': 38,\n",
       "         'PRTS': 235,\n",
       "         'CONJ': 164,\n",
       "         None: 277,\n",
       "         'NPRO': 30,\n",
       "         'VERB': 1038,\n",
       "         'NOUN': 13877,\n",
       "         'INFN': 271,\n",
       "         'ADJS': 57,\n",
       "         'ADVB': 238,\n",
       "         'GRND': 22,\n",
       "         'PRTF': 835,\n",
       "         'PRCL': 16,\n",
       "         'PRED': 32})"
      ]
     },
     "execution_count": 17,
     "metadata": {},
     "output_type": "execute_result"
    }
   ],
   "source": [
    "POS_freq_ofi"
   ]
  },
  {
   "cell_type": "code",
   "execution_count": 19,
   "metadata": {
    "collapsed": false
   },
   "outputs": [
    {
     "ename": "NameError",
     "evalue": "name 'pos' is not defined",
     "output_type": "error",
     "traceback": [
      "\u001b[1;31m---------------------------------------------------------------------------\u001b[0m",
      "\u001b[1;31mNameError\u001b[0m                                 Traceback (most recent call last)",
      "\u001b[1;32m<ipython-input-19-755b64cc5d06>\u001b[0m in \u001b[0;36m<module>\u001b[1;34m()\u001b[0m\n\u001b[1;32m----> 1\u001b[1;33m \u001b[1;32mfor\u001b[0m \u001b[0mi\u001b[0m \u001b[1;32min\u001b[0m \u001b[0mrange\u001b[0m\u001b[1;33m(\u001b[0m\u001b[1;36m0\u001b[0m\u001b[1;33m,\u001b[0m \u001b[0mlen\u001b[0m\u001b[1;33m(\u001b[0m\u001b[0mpos\u001b[0m\u001b[1;33m)\u001b[0m\u001b[1;33m)\u001b[0m\u001b[1;33m:\u001b[0m\u001b[1;33m\u001b[0m\u001b[0m\n\u001b[0m\u001b[0;32m      2\u001b[0m     \u001b[1;32mif\u001b[0m \u001b[0mpos\u001b[0m\u001b[1;33m[\u001b[0m\u001b[0mi\u001b[0m\u001b[1;33m]\u001b[0m\u001b[1;33m==\u001b[0m\u001b[1;32mNone\u001b[0m\u001b[1;33m:\u001b[0m\u001b[1;33m\u001b[0m\u001b[0m\n\u001b[0;32m      3\u001b[0m         \u001b[0mprint\u001b[0m\u001b[1;33m(\u001b[0m\u001b[0mlemmas\u001b[0m\u001b[1;33m[\u001b[0m\u001b[0mi\u001b[0m\u001b[1;33m]\u001b[0m\u001b[1;33m)\u001b[0m\u001b[1;33m\u001b[0m\u001b[0m\n",
      "\u001b[1;31mNameError\u001b[0m: name 'pos' is not defined"
     ]
    }
   ],
   "source": [
    "for i in range(0, len(pos)): \n",
    "    if pos[i]==None: \n",
    "        print(lemmas[i])"
   ]
  },
  {
   "cell_type": "code",
   "execution_count": 9,
   "metadata": {
    "collapsed": false
   },
   "outputs": [
    {
     "data": {
      "text/plain": [
       "FreqDist({'NOUN': 8537,\n",
       "          'ADVB': 2047,\n",
       "          'VERB': 5072,\n",
       "          'ADJF': 3487,\n",
       "          'PREP': 133,\n",
       "          'INFN': 1000,\n",
       "          'PRTF': 302,\n",
       "          'GRND': 467,\n",
       "          'PRTS': 254,\n",
       "          'ADJS': 519,\n",
       "          'CONJ': 401,\n",
       "          'NPRO': 284,\n",
       "          'INTJ': 70,\n",
       "          'PRCL': 436,\n",
       "          'COMP': 145,\n",
       "          'PRED': 34,\n",
       "          'NUMR': 259,\n",
       "          None: 39})"
      ]
     },
     "execution_count": 9,
     "metadata": {},
     "output_type": "execute_result"
    }
   ],
   "source": [
    "POS_freq_art"
   ]
  },
  {
   "cell_type": "code",
   "execution_count": 27,
   "metadata": {
    "collapsed": true
   },
   "outputs": [],
   "source": [
    "# это на будущее\n",
    "\n",
    "mystopwords = stopwords.words('russian')+[u'это', u'иза', u'свой',u'млрд', u'млн',u'млна',u'тыс',u'трлн']"
   ]
  }
 ],
 "metadata": {
  "kernelspec": {
   "display_name": "Python 3",
   "language": "python",
   "name": "python3"
  },
  "language_info": {
   "codemirror_mode": {
    "name": "ipython",
    "version": 3
   },
   "file_extension": ".py",
   "mimetype": "text/x-python",
   "name": "python",
   "nbconvert_exporter": "python",
   "pygments_lexer": "ipython3",
   "version": "3.5.1"
  }
 },
 "nbformat": 4,
 "nbformat_minor": 2
}
